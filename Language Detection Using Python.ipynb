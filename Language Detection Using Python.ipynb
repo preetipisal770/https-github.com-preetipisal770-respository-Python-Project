{
 "cells": [
  {
   "cell_type": "markdown",
   "id": "8eaff113",
   "metadata": {},
   "source": [
    "Title:-Language Detection Using PYTHON"
   ]
  },
  {
   "cell_type": "code",
   "execution_count": null,
   "id": "93caa07c",
   "metadata": {},
   "outputs": [],
   "source": [
    "Introduction:-\n",
    "(1)In this project, we are going to learn how to detect the language in text using Python with\n",
    "the help of libraries like long detect.\n",
    "(2)This parses through the basic functions of langdetect library and is going to detect the sentence of a language."
   ]
  },
  {
   "cell_type": "code",
   "execution_count": 3,
   "id": "53013560",
   "metadata": {},
   "outputs": [
    {
     "name": "stdout",
     "output_type": "stream",
     "text": [
      "Requirement already satisfied: langdetect in c:\\users\\preet\\appdata\\local\\programs\\python\\python311\\lib\\site-packages (1.0.9)\n",
      "Requirement already satisfied: six in c:\\users\\preet\\appdata\\local\\programs\\python\\python311\\lib\\site-packages (from langdetect) (1.16.0)\n",
      "Note: you may need to restart the kernel to use updated packages.\n"
     ]
    },
    {
     "name": "stderr",
     "output_type": "stream",
     "text": [
      "\n",
      "[notice] A new release of pip available: 22.3 -> 23.3.2\n",
      "[notice] To update, run: python.exe -m pip install --upgrade pip\n"
     ]
    }
   ],
   "source": [
    "pip install langdetect"
   ]
  },
  {
   "cell_type": "code",
   "execution_count": 1,
   "id": "635d0b2a",
   "metadata": {},
   "outputs": [
    {
     "name": "stdout",
     "output_type": "stream",
     "text": [
      "Enter a sentence: preeti\n",
      "The language of the text is: English\n"
     ]
    }
   ],
   "source": [
    "# Importing langdetect library\n",
    "from langdetect import detect\n",
    "\n",
    "# Function to detect the language of a sentence\n",
    "def detect_language(text):\n",
    "    return detect(text)\n",
    "\n",
    "# The Sentence\n",
    "text = input(\"Enter a sentence: \")\n",
    "\n",
    "# Dictionary of some famous Languages and their respective codes\n",
    "codes={\n",
    " 'ar': 'Arabic', 'et': 'Armenian', 'art': 'Artificial Langauge',\n",
    " 'sq': 'Albanian','bn': 'Bangla', 'bh': 'Bhojpuri',\n",
    "'bul': 'Bulgarian', 'cai': 'Central American Indian Language',\n",
    " 'cze': 'Caech', 'dan': 'Danish', 'ger': 'German', 'eg': 'Egyptian', 'en': 'English',\n",
    " 'fre': 'french', 'gon': 'Gondi', 'grc': 'Greek', 'gsw': 'Swiss German', 'hi': 'Hindi',\n",
    " 'ind': 'Indonesian', 'ita': 'Italian', 'ja': 'Japanese', 'kn': 'Kannada',\n",
    " 'kas': 'Kashmiri', 'geo': 'Georgian', 'kor': 'Korean', 'lat': 'Latin',\n",
    " 'mar': 'Marathi', 'mni': 'Manipuri', 'mul': 'Multiple Languages', 'dut': 'Dutch',\n",
    "'te': 'Telugu', 'ta': 'Tamil','cy':'Welsh'}\n",
    "\n",
    "print(\"The language of the text is:\", codes[detect_language(text)])"
   ]
  },
  {
   "cell_type": "code",
   "execution_count": null,
   "id": "d9d40fde",
   "metadata": {},
   "outputs": [],
   "source": []
  }
 ],
 "metadata": {
  "kernelspec": {
   "display_name": "Python 3 (ipykernel)",
   "language": "python",
   "name": "python3"
  },
  "language_info": {
   "codemirror_mode": {
    "name": "ipython",
    "version": 3
   },
   "file_extension": ".py",
   "mimetype": "text/x-python",
   "name": "python",
   "nbconvert_exporter": "python",
   "pygments_lexer": "ipython3",
   "version": "3.11.0"
  }
 },
 "nbformat": 4,
 "nbformat_minor": 5
}
